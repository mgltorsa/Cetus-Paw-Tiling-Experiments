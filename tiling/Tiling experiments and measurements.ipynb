{
 "cells": [
  {
   "cell_type": "markdown",
   "id": "cd9bf7cc",
   "metadata": {},
   "source": [
    "# Tiling experiments\n",
    "This paperwork will analyze data obtained from tiling experiments to compare 4 features of 4 different algorithms' implementations.\n",
    "\n",
    "The features or variables to measure are the following:\n",
    "- Algorithm speed up\n",
    "- Cache misses\n",
    "- Total of instructions executed\n",
    "- Cores rate usage\n",
    "\n",
    "The 4 algorithms selected for the experiment were:\n",
    "- Matrix multiplication\n",
    "- Vector multiplication\n",
    "- Jacobi Example\n",
    "- ? (still in process)\n",
    "\n",
    "For each algorithm will have 4 versions\n",
    "- Original implementation.\n",
    "- Tiled and handed parallelized algorithm from a benchmark.\n",
    "- Tiled and parallelized algorithm using Cetus.\n",
    "- Tiled, parallelized and loop interchange applied algorithm using Cetus.\n",
    "\n",
    "## Methodology\n",
    "\n",
    "The proposed methodology is, we will have 4 different versions for each algorithm and will measure the features above for each of them. After that, we are going to use the data obtained to see if tiling improves the algorithms' performance.\n",
    "\n",
    "For each measurement the independent variable will be the amount ofcores to use for each experiment instance."
   ]
  },
  {
   "cell_type": "markdown",
   "id": "cc093af5",
   "metadata": {},
   "source": [
    "## Data creation\n",
    "For obtaining/creating the data, we will use a group of tools to obtain data in runtime. Those tools are the following:\n",
    "- PAPI: To access hardware counters and to measure: Cache misses and total of instructions executed\n",
    "- OMP directives: To measure elapsed time for an algorithm execution and to measure speed up and cores rate usage."
   ]
  },
  {
   "cell_type": "code",
   "execution_count": 4,
   "id": "1ac14836",
   "metadata": {},
   "outputs": [
    {
     "data": {
      "text/html": [
       "<div>\n",
       "<style scoped>\n",
       "    .dataframe tbody tr th:only-of-type {\n",
       "        vertical-align: middle;\n",
       "    }\n",
       "\n",
       "    .dataframe tbody tr th {\n",
       "        vertical-align: top;\n",
       "    }\n",
       "\n",
       "    .dataframe thead th {\n",
       "        text-align: right;\n",
       "    }\n",
       "</style>\n",
       "<table border=\"1\" class=\"dataframe\">\n",
       "  <thead>\n",
       "    <tr style=\"text-align: right;\">\n",
       "      <th></th>\n",
       "    </tr>\n",
       "  </thead>\n",
       "  <tbody>\n",
       "  </tbody>\n",
       "</table>\n",
       "</div>"
      ],
      "text/plain": [
       "Empty DataFrame\n",
       "Columns: []\n",
       "Index: []"
      ]
     },
     "execution_count": 4,
     "metadata": {},
     "output_type": "execute_result"
    }
   ],
   "source": [
    "import pandas as pd\n",
    "\n",
    "dataframe = pd.DataFrame()\n",
    "dataframe"
   ]
  },
  {
   "cell_type": "code",
   "execution_count": null,
   "id": "c3fa7d0f",
   "metadata": {},
   "outputs": [],
   "source": []
  }
 ],
 "metadata": {
  "kernelspec": {
   "display_name": "Python 3 (ipykernel)",
   "language": "python",
   "name": "python3"
  },
  "language_info": {
   "codemirror_mode": {
    "name": "ipython",
    "version": 3
   },
   "file_extension": ".py",
   "mimetype": "text/x-python",
   "name": "python",
   "nbconvert_exporter": "python",
   "pygments_lexer": "ipython3",
   "version": "3.9.13"
  }
 },
 "nbformat": 4,
 "nbformat_minor": 5
}
