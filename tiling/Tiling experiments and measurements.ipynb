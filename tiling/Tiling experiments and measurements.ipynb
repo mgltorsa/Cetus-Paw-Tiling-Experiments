{
 "cells": [
  {
   "cell_type": "markdown",
   "id": "cd9bf7cc",
   "metadata": {},
   "source": [
    "# Tiling experiments\n",
    "This paperwork will analyze data obtained from tiling experiments to compare 4 features of 4 different algorithms' implementations.\n",
    "\n",
    "The features or variables to measure are the following:\n",
    "- Algorithm speed up\n",
    "- Cache misses\n",
    "- Total of instructions executed\n",
    "- Cores rate usage\n",
    "\n",
    "The 4 algorithms selected for the experiment were:\n",
    "- Matrix multiplication\n",
    "- Vector multiplication\n",
    "- Jacobi Example\n",
    "- ? (still in process)\n",
    "\n",
    "For each algorithm will have 4 versions\n",
    "- Original implementation.\n",
    "- Tiled and handed parallelized algorithm from a benchmark.\n",
    "- Tiled and parallelized algorithm using Cetus.\n",
    "- Tiled, parallelized and loop interchange applied algorithm using Cetus.\n",
    "\n",
    "## Methodology\n",
    "\n",
    "The proposed methodology is, we will have 4 different versions for each algorithm and will measure the features above for each of them. After that, we are going to use the data obtained to see if tiling improves the algorithms' performance.\n",
    "\n",
    "For each measurement the independent variable will be the amount ofcores to use for each experiment instance."
   ]
  },
  {
   "cell_type": "markdown",
   "id": "cc093af5",
   "metadata": {},
   "source": [
    "## Data creation\n",
    "For obtaining/creating the data, we will use a group of tools to obtain data in runtime. Those tools are the following:\n",
    "- PAPI: To access hardware counters and to measure: Cache misses and total of instructions executed\n",
    "- OMP directives: To measure elapsed time for an algorithm execution and to measure speed up and cores rate usage."
   ]
  },
  {
   "cell_type": "markdown",
   "id": "471e4e2d",
   "metadata": {},
   "source": [
    "## Experiment results"
   ]
  },
  {
   "cell_type": "code",
   "execution_count": 1,
   "id": "03280209",
   "metadata": {},
   "outputs": [],
   "source": [
    "import pandas as pd\n",
    "import math\n",
    "import matplotlib.pyplot as plt\n",
    "import matplotlib.colors as mcolors\n",
    "import numpy as np\n",
    "\n",
    "default_tick_format_style = 'sci'\n",
    "all_versions = ['parallel-non-tiled','parallel-paw-tiled', 'parallel-paw-single-tiled']"
   ]
  },
  {
   "cell_type": "code",
   "execution_count": 2,
   "id": "170605bb",
   "metadata": {},
   "outputs": [
    {
     "data": {
      "text/html": [
       "<div>\n",
       "<style scoped>\n",
       "    .dataframe tbody tr th:only-of-type {\n",
       "        vertical-align: middle;\n",
       "    }\n",
       "\n",
       "    .dataframe tbody tr th {\n",
       "        vertical-align: top;\n",
       "    }\n",
       "\n",
       "    .dataframe thead th {\n",
       "        text-align: right;\n",
       "    }\n",
       "</style>\n",
       "<table border=\"1\" class=\"dataframe\">\n",
       "  <thead>\n",
       "    <tr style=\"text-align: right;\">\n",
       "      <th></th>\n",
       "      <th>algorithm</th>\n",
       "      <th>version</th>\n",
       "      <th>cores</th>\n",
       "      <th>experiment</th>\n",
       "      <th>N</th>\n",
       "      <th>M</th>\n",
       "      <th>value</th>\n",
       "    </tr>\n",
       "  </thead>\n",
       "  <tbody>\n",
       "    <tr>\n",
       "      <th>0</th>\n",
       "      <td>matrix-mult</td>\n",
       "      <td>parallel-paw-single-tiled</td>\n",
       "      <td>1</td>\n",
       "      <td>cache-misses</td>\n",
       "      <td>1200</td>\n",
       "      <td>1200</td>\n",
       "      <td>5.020990e+06</td>\n",
       "    </tr>\n",
       "    <tr>\n",
       "      <th>1</th>\n",
       "      <td>vector-mult</td>\n",
       "      <td>parallel-non-tiled</td>\n",
       "      <td>1</td>\n",
       "      <td>cache-misses</td>\n",
       "      <td>1200</td>\n",
       "      <td>1200</td>\n",
       "      <td>1.416000e+05</td>\n",
       "    </tr>\n",
       "    <tr>\n",
       "      <th>2</th>\n",
       "      <td>jacobi</td>\n",
       "      <td>parallel-paw-single-tiled</td>\n",
       "      <td>1</td>\n",
       "      <td>cache-misses</td>\n",
       "      <td>1200</td>\n",
       "      <td>1200</td>\n",
       "      <td>3.095400e+05</td>\n",
       "    </tr>\n",
       "    <tr>\n",
       "      <th>3</th>\n",
       "      <td>matrix-mult</td>\n",
       "      <td>parallel-non-tiled</td>\n",
       "      <td>1</td>\n",
       "      <td>cache-misses</td>\n",
       "      <td>1200</td>\n",
       "      <td>1200</td>\n",
       "      <td>4.130593e+06</td>\n",
       "    </tr>\n",
       "    <tr>\n",
       "      <th>4</th>\n",
       "      <td>vector-mult</td>\n",
       "      <td>parallel-paw-single-tiled</td>\n",
       "      <td>1</td>\n",
       "      <td>cache-misses</td>\n",
       "      <td>1200</td>\n",
       "      <td>1200</td>\n",
       "      <td>1.563620e+05</td>\n",
       "    </tr>\n",
       "    <tr>\n",
       "      <th>...</th>\n",
       "      <td>...</td>\n",
       "      <td>...</td>\n",
       "      <td>...</td>\n",
       "      <td>...</td>\n",
       "      <td>...</td>\n",
       "      <td>...</td>\n",
       "      <td>...</td>\n",
       "    </tr>\n",
       "    <tr>\n",
       "      <th>2155</th>\n",
       "      <td>vector-mult</td>\n",
       "      <td>parallel-paw-single-tiled</td>\n",
       "      <td>8</td>\n",
       "      <td>speed-up</td>\n",
       "      <td>1200</td>\n",
       "      <td>1200</td>\n",
       "      <td>1.108000e-03</td>\n",
       "    </tr>\n",
       "    <tr>\n",
       "      <th>2156</th>\n",
       "      <td>jacobi</td>\n",
       "      <td>parallel-non-tiled</td>\n",
       "      <td>8</td>\n",
       "      <td>speed-up</td>\n",
       "      <td>1200</td>\n",
       "      <td>1200</td>\n",
       "      <td>3.151000e-03</td>\n",
       "    </tr>\n",
       "    <tr>\n",
       "      <th>2157</th>\n",
       "      <td>matrix-mult</td>\n",
       "      <td>parallel-paw-tiled</td>\n",
       "      <td>8</td>\n",
       "      <td>speed-up</td>\n",
       "      <td>1200</td>\n",
       "      <td>1200</td>\n",
       "      <td>1.803476e+00</td>\n",
       "    </tr>\n",
       "    <tr>\n",
       "      <th>2158</th>\n",
       "      <td>vector-mult</td>\n",
       "      <td>parallel-paw-tiled</td>\n",
       "      <td>8</td>\n",
       "      <td>speed-up</td>\n",
       "      <td>1200</td>\n",
       "      <td>1200</td>\n",
       "      <td>1.129000e-03</td>\n",
       "    </tr>\n",
       "    <tr>\n",
       "      <th>2159</th>\n",
       "      <td>jacobi</td>\n",
       "      <td>parallel-paw-single-tiled</td>\n",
       "      <td>8</td>\n",
       "      <td>speed-up</td>\n",
       "      <td>1200</td>\n",
       "      <td>1200</td>\n",
       "      <td>2.968000e-03</td>\n",
       "    </tr>\n",
       "  </tbody>\n",
       "</table>\n",
       "<p>2160 rows × 7 columns</p>\n",
       "</div>"
      ],
      "text/plain": [
       "        algorithm                    version  cores    experiment     N     M  \\\n",
       "0     matrix-mult  parallel-paw-single-tiled      1  cache-misses  1200  1200   \n",
       "1     vector-mult         parallel-non-tiled      1  cache-misses  1200  1200   \n",
       "2          jacobi  parallel-paw-single-tiled      1  cache-misses  1200  1200   \n",
       "3     matrix-mult         parallel-non-tiled      1  cache-misses  1200  1200   \n",
       "4     vector-mult  parallel-paw-single-tiled      1  cache-misses  1200  1200   \n",
       "...           ...                        ...    ...           ...   ...   ...   \n",
       "2155  vector-mult  parallel-paw-single-tiled      8      speed-up  1200  1200   \n",
       "2156       jacobi         parallel-non-tiled      8      speed-up  1200  1200   \n",
       "2157  matrix-mult         parallel-paw-tiled      8      speed-up  1200  1200   \n",
       "2158  vector-mult         parallel-paw-tiled      8      speed-up  1200  1200   \n",
       "2159       jacobi  parallel-paw-single-tiled      8      speed-up  1200  1200   \n",
       "\n",
       "             value  \n",
       "0     5.020990e+06  \n",
       "1     1.416000e+05  \n",
       "2     3.095400e+05  \n",
       "3     4.130593e+06  \n",
       "4     1.563620e+05  \n",
       "...            ...  \n",
       "2155  1.108000e-03  \n",
       "2156  3.151000e-03  \n",
       "2157  1.803476e+00  \n",
       "2158  1.129000e-03  \n",
       "2159  2.968000e-03  \n",
       "\n",
       "[2160 rows x 7 columns]"
      ]
     },
     "execution_count": 2,
     "metadata": {},
     "output_type": "execute_result"
    }
   ],
   "source": [
    "df = pd.read_csv(\"./experiments/results-v1.csv\", names=['algorithm','version', 'cores', 'experiment', 'N','M','value'])\n",
    "df"
   ]
  },
  {
   "cell_type": "code",
   "execution_count": 3,
   "id": "7db40332",
   "metadata": {},
   "outputs": [
    {
     "data": {
      "text/html": [
       "<div>\n",
       "<style scoped>\n",
       "    .dataframe tbody tr th:only-of-type {\n",
       "        vertical-align: middle;\n",
       "    }\n",
       "\n",
       "    .dataframe tbody tr th {\n",
       "        vertical-align: top;\n",
       "    }\n",
       "\n",
       "    .dataframe thead th {\n",
       "        text-align: right;\n",
       "    }\n",
       "</style>\n",
       "<table border=\"1\" class=\"dataframe\">\n",
       "  <thead>\n",
       "    <tr style=\"text-align: right;\">\n",
       "      <th></th>\n",
       "      <th>algorithm</th>\n",
       "      <th>version</th>\n",
       "      <th>cores</th>\n",
       "      <th>experiment</th>\n",
       "      <th>N</th>\n",
       "      <th>M</th>\n",
       "      <th>value</th>\n",
       "    </tr>\n",
       "  </thead>\n",
       "  <tbody>\n",
       "    <tr>\n",
       "      <th>0</th>\n",
       "      <td>matrix-mult</td>\n",
       "      <td>parallel-non-tiled</td>\n",
       "      <td>5</td>\n",
       "      <td>cache-misses</td>\n",
       "      <td>1200</td>\n",
       "      <td>1200</td>\n",
       "      <td>5</td>\n",
       "    </tr>\n",
       "    <tr>\n",
       "      <th>1</th>\n",
       "      <td>matrix-mult</td>\n",
       "      <td>parallel-non-tiled</td>\n",
       "      <td>5</td>\n",
       "      <td>cache-misses</td>\n",
       "      <td>1200</td>\n",
       "      <td>1200</td>\n",
       "      <td>7</td>\n",
       "    </tr>\n",
       "    <tr>\n",
       "      <th>2</th>\n",
       "      <td>matrix-mult</td>\n",
       "      <td>parallel-non-tiled</td>\n",
       "      <td>5</td>\n",
       "      <td>total-i</td>\n",
       "      <td>1200</td>\n",
       "      <td>1200</td>\n",
       "      <td>1</td>\n",
       "    </tr>\n",
       "    <tr>\n",
       "      <th>3</th>\n",
       "      <td>matrix-mult</td>\n",
       "      <td>parallel-non-tiled</td>\n",
       "      <td>5</td>\n",
       "      <td>total-i</td>\n",
       "      <td>1200</td>\n",
       "      <td>1200</td>\n",
       "      <td>3</td>\n",
       "    </tr>\n",
       "    <tr>\n",
       "      <th>4</th>\n",
       "      <td>matrix-mult</td>\n",
       "      <td>parallel-non-tiled</td>\n",
       "      <td>4</td>\n",
       "      <td>cache-misses</td>\n",
       "      <td>1200</td>\n",
       "      <td>1200</td>\n",
       "      <td>2</td>\n",
       "    </tr>\n",
       "  </tbody>\n",
       "</table>\n",
       "</div>"
      ],
      "text/plain": [
       "     algorithm             version  cores    experiment     N     M  value\n",
       "0  matrix-mult  parallel-non-tiled      5  cache-misses  1200  1200      5\n",
       "1  matrix-mult  parallel-non-tiled      5  cache-misses  1200  1200      7\n",
       "2  matrix-mult  parallel-non-tiled      5       total-i  1200  1200      1\n",
       "3  matrix-mult  parallel-non-tiled      5       total-i  1200  1200      3\n",
       "4  matrix-mult  parallel-non-tiled      4  cache-misses  1200  1200      2"
      ]
     },
     "execution_count": 3,
     "metadata": {},
     "output_type": "execute_result"
    }
   ],
   "source": [
    "pp = pd.read_csv(\"./experiments/test.csv\", names=['algorithm','version', 'cores', 'experiment', 'N','M','value'])\n",
    "pp"
   ]
  },
  {
   "cell_type": "code",
   "execution_count": 4,
   "id": "dec56c30",
   "metadata": {},
   "outputs": [],
   "source": [
    "def group_by(dataframe, groups=['algorithm', \"version\", \"cores\", \"experiment\"]):\n",
    "    return dataframe.groupby(groups, as_index=False)"
   ]
  },
  {
   "cell_type": "code",
   "execution_count": 5,
   "id": "25ac247b",
   "metadata": {},
   "outputs": [
    {
     "data": {
      "text/html": [
       "<div>\n",
       "<style scoped>\n",
       "    .dataframe tbody tr th:only-of-type {\n",
       "        vertical-align: middle;\n",
       "    }\n",
       "\n",
       "    .dataframe tbody tr th {\n",
       "        vertical-align: top;\n",
       "    }\n",
       "\n",
       "    .dataframe thead th {\n",
       "        text-align: right;\n",
       "    }\n",
       "</style>\n",
       "<table border=\"1\" class=\"dataframe\">\n",
       "  <thead>\n",
       "    <tr style=\"text-align: right;\">\n",
       "      <th></th>\n",
       "      <th>algorithm</th>\n",
       "      <th>version</th>\n",
       "      <th>cores</th>\n",
       "      <th>experiment</th>\n",
       "      <th>N</th>\n",
       "      <th>M</th>\n",
       "      <th>value</th>\n",
       "    </tr>\n",
       "  </thead>\n",
       "  <tbody>\n",
       "    <tr>\n",
       "      <th>0</th>\n",
       "      <td>matrix-mult</td>\n",
       "      <td>parallel-non-tiled</td>\n",
       "      <td>4</td>\n",
       "      <td>cache-misses</td>\n",
       "      <td>NaN</td>\n",
       "      <td>NaN</td>\n",
       "      <td>NaN</td>\n",
       "    </tr>\n",
       "    <tr>\n",
       "      <th>1</th>\n",
       "      <td>matrix-mult</td>\n",
       "      <td>parallel-non-tiled</td>\n",
       "      <td>5</td>\n",
       "      <td>cache-misses</td>\n",
       "      <td>0.0</td>\n",
       "      <td>0.0</td>\n",
       "      <td>1.414214</td>\n",
       "    </tr>\n",
       "    <tr>\n",
       "      <th>2</th>\n",
       "      <td>matrix-mult</td>\n",
       "      <td>parallel-non-tiled</td>\n",
       "      <td>5</td>\n",
       "      <td>total-i</td>\n",
       "      <td>0.0</td>\n",
       "      <td>0.0</td>\n",
       "      <td>1.414214</td>\n",
       "    </tr>\n",
       "  </tbody>\n",
       "</table>\n",
       "</div>"
      ],
      "text/plain": [
       "     algorithm             version  cores    experiment    N    M     value\n",
       "0  matrix-mult  parallel-non-tiled      4  cache-misses  NaN  NaN       NaN\n",
       "1  matrix-mult  parallel-non-tiled      5  cache-misses  0.0  0.0  1.414214\n",
       "2  matrix-mult  parallel-non-tiled      5       total-i  0.0  0.0  1.414214"
      ]
     },
     "execution_count": 5,
     "metadata": {},
     "output_type": "execute_result"
    }
   ],
   "source": [
    "def group_min(dataframe):\n",
    "    ss = group_by(dataframe, ['algorithm', \"version\", \"cores\", \"experiment\"])\n",
    "    return ss.min()\n",
    "\n",
    "group_min(pp)\n",
    "group_by(pp).std()"
   ]
  },
  {
   "cell_type": "code",
   "execution_count": 6,
   "id": "8dc00604",
   "metadata": {},
   "outputs": [
    {
     "data": {
      "text/html": [
       "<div>\n",
       "<style scoped>\n",
       "    .dataframe tbody tr th:only-of-type {\n",
       "        vertical-align: middle;\n",
       "    }\n",
       "\n",
       "    .dataframe tbody tr th {\n",
       "        vertical-align: top;\n",
       "    }\n",
       "\n",
       "    .dataframe thead th {\n",
       "        text-align: right;\n",
       "    }\n",
       "</style>\n",
       "<table border=\"1\" class=\"dataframe\">\n",
       "  <thead>\n",
       "    <tr style=\"text-align: right;\">\n",
       "      <th></th>\n",
       "      <th>algorithm</th>\n",
       "      <th>version</th>\n",
       "      <th>cores</th>\n",
       "      <th>experiment</th>\n",
       "      <th>N</th>\n",
       "      <th>M</th>\n",
       "      <th>value</th>\n",
       "    </tr>\n",
       "  </thead>\n",
       "  <tbody>\n",
       "    <tr>\n",
       "      <th>0</th>\n",
       "      <td>matrix-mult</td>\n",
       "      <td>parallel-non-tiled</td>\n",
       "      <td>4</td>\n",
       "      <td>cache-misses</td>\n",
       "      <td>1200.0</td>\n",
       "      <td>1200.0</td>\n",
       "      <td>2.0</td>\n",
       "    </tr>\n",
       "    <tr>\n",
       "      <th>1</th>\n",
       "      <td>matrix-mult</td>\n",
       "      <td>parallel-non-tiled</td>\n",
       "      <td>5</td>\n",
       "      <td>cache-misses</td>\n",
       "      <td>1200.0</td>\n",
       "      <td>1200.0</td>\n",
       "      <td>6.0</td>\n",
       "    </tr>\n",
       "    <tr>\n",
       "      <th>2</th>\n",
       "      <td>matrix-mult</td>\n",
       "      <td>parallel-non-tiled</td>\n",
       "      <td>5</td>\n",
       "      <td>total-i</td>\n",
       "      <td>1200.0</td>\n",
       "      <td>1200.0</td>\n",
       "      <td>2.0</td>\n",
       "    </tr>\n",
       "  </tbody>\n",
       "</table>\n",
       "</div>"
      ],
      "text/plain": [
       "     algorithm             version  cores    experiment       N       M  value\n",
       "0  matrix-mult  parallel-non-tiled      4  cache-misses  1200.0  1200.0    2.0\n",
       "1  matrix-mult  parallel-non-tiled      5  cache-misses  1200.0  1200.0    6.0\n",
       "2  matrix-mult  parallel-non-tiled      5       total-i  1200.0  1200.0    2.0"
      ]
     },
     "execution_count": 6,
     "metadata": {},
     "output_type": "execute_result"
    }
   ],
   "source": [
    "def group_mean(dataframe):\n",
    "    ss = group_by(dataframe, ['algorithm', \"version\", \"cores\", \"experiment\"])\n",
    "    return ss.mean()\n",
    "\n",
    "group_mean(pp)\n"
   ]
  },
  {
   "cell_type": "code",
   "execution_count": 7,
   "id": "39429cd3",
   "metadata": {},
   "outputs": [
    {
     "data": {
      "text/html": [
       "<div>\n",
       "<style scoped>\n",
       "    .dataframe tbody tr th:only-of-type {\n",
       "        vertical-align: middle;\n",
       "    }\n",
       "\n",
       "    .dataframe tbody tr th {\n",
       "        vertical-align: top;\n",
       "    }\n",
       "\n",
       "    .dataframe thead th {\n",
       "        text-align: right;\n",
       "    }\n",
       "</style>\n",
       "<table border=\"1\" class=\"dataframe\">\n",
       "  <thead>\n",
       "    <tr style=\"text-align: right;\">\n",
       "      <th></th>\n",
       "      <th>algorithm</th>\n",
       "      <th>version</th>\n",
       "      <th>cores</th>\n",
       "      <th>experiment</th>\n",
       "      <th>N</th>\n",
       "      <th>M</th>\n",
       "      <th>value</th>\n",
       "    </tr>\n",
       "  </thead>\n",
       "  <tbody>\n",
       "    <tr>\n",
       "      <th>1440</th>\n",
       "      <td>matrix-mult</td>\n",
       "      <td>parallel-paw-single-tiled</td>\n",
       "      <td>1</td>\n",
       "      <td>speed-up</td>\n",
       "      <td>1200</td>\n",
       "      <td>1200</td>\n",
       "      <td>7.234352</td>\n",
       "    </tr>\n",
       "    <tr>\n",
       "      <th>1443</th>\n",
       "      <td>matrix-mult</td>\n",
       "      <td>parallel-non-tiled</td>\n",
       "      <td>1</td>\n",
       "      <td>speed-up</td>\n",
       "      <td>1200</td>\n",
       "      <td>1200</td>\n",
       "      <td>7.958315</td>\n",
       "    </tr>\n",
       "    <tr>\n",
       "      <th>1446</th>\n",
       "      <td>matrix-mult</td>\n",
       "      <td>parallel-paw-tiled</td>\n",
       "      <td>1</td>\n",
       "      <td>speed-up</td>\n",
       "      <td>1200</td>\n",
       "      <td>1200</td>\n",
       "      <td>8.762267</td>\n",
       "    </tr>\n",
       "    <tr>\n",
       "      <th>1449</th>\n",
       "      <td>matrix-mult</td>\n",
       "      <td>parallel-paw-single-tiled</td>\n",
       "      <td>2</td>\n",
       "      <td>speed-up</td>\n",
       "      <td>1200</td>\n",
       "      <td>1200</td>\n",
       "      <td>3.878527</td>\n",
       "    </tr>\n",
       "    <tr>\n",
       "      <th>1452</th>\n",
       "      <td>matrix-mult</td>\n",
       "      <td>parallel-non-tiled</td>\n",
       "      <td>2</td>\n",
       "      <td>speed-up</td>\n",
       "      <td>1200</td>\n",
       "      <td>1200</td>\n",
       "      <td>4.329642</td>\n",
       "    </tr>\n",
       "  </tbody>\n",
       "</table>\n",
       "</div>"
      ],
      "text/plain": [
       "        algorithm                    version  cores experiment     N     M  \\\n",
       "1440  matrix-mult  parallel-paw-single-tiled      1   speed-up  1200  1200   \n",
       "1443  matrix-mult         parallel-non-tiled      1   speed-up  1200  1200   \n",
       "1446  matrix-mult         parallel-paw-tiled      1   speed-up  1200  1200   \n",
       "1449  matrix-mult  parallel-paw-single-tiled      2   speed-up  1200  1200   \n",
       "1452  matrix-mult         parallel-non-tiled      2   speed-up  1200  1200   \n",
       "\n",
       "         value  \n",
       "1440  7.234352  \n",
       "1443  7.958315  \n",
       "1446  8.762267  \n",
       "1449  3.878527  \n",
       "1452  4.329642  "
      ]
     },
     "execution_count": 7,
     "metadata": {},
     "output_type": "execute_result"
    }
   ],
   "source": [
    "def filter_by_experiment(algorithm, experiment)->pd.DataFrame:\n",
    "    filteredAlgorithms = df.loc[(df['algorithm']==algorithm)]\n",
    "    filteredRows = filteredAlgorithms.loc[df['experiment']==experiment]\n",
    "    return filteredRows\n",
    "\n",
    "filter_by_experiment('matrix-mult', 'speed-up').head()\n",
    "    "
   ]
  },
  {
   "cell_type": "code",
   "execution_count": 8,
   "id": "cd41df10",
   "metadata": {},
   "outputs": [
    {
     "data": {
      "text/plain": [
       "array(['parallel-paw-single-tiled', 'parallel-non-tiled',\n",
       "       'parallel-paw-tiled'], dtype=object)"
      ]
     },
     "execution_count": 8,
     "metadata": {},
     "output_type": "execute_result"
    }
   ],
   "source": [
    "def get_unique(dataframe: pd.DataFrame, name):\n",
    "    return dataframe[name].unique()\n",
    "\n",
    "get_unique(df, 'version')"
   ]
  },
  {
   "cell_type": "code",
   "execution_count": 9,
   "id": "d73c9db8",
   "metadata": {},
   "outputs": [
    {
     "data": {
      "text/plain": [
       "dict_keys(['parallel-paw-single-tiled', 'parallel-non-tiled', 'parallel-paw-tiled'])"
      ]
     },
     "execution_count": 9,
     "metadata": {},
     "output_type": "execute_result"
    }
   ],
   "source": [
    "def get_experimental_values(dataframe: pd.DataFrame, versions=[])->dict:\n",
    "    if(len(versions) == 0):\n",
    "        versions=get_unique(dataframe, 'version')\n",
    "    dictionary={}\n",
    "    for version in versions:\n",
    "        dataframe_by_versions = dataframe.loc[dataframe['version']==version]\n",
    "        x = dataframe_by_versions['cores']\n",
    "        y = dataframe_by_versions['value']\n",
    "        dictionary[version] = {'x': x, 'y':y}\n",
    "    return dictionary\n",
    "matrix_mult_speed_df = filter_by_experiment('matrix-mult','speed-up')\n",
    "experiment = get_experimental_values(matrix_mult_speed_df)\n",
    "experiment.keys()"
   ]
  },
  {
   "cell_type": "code",
   "execution_count": 10,
   "id": "070d6076",
   "metadata": {},
   "outputs": [
    {
     "data": {
      "text/plain": [
       "dict_keys(['parallel-paw-single-tiled', 'parallel-non-tiled'])"
      ]
     },
     "execution_count": 10,
     "metadata": {},
     "output_type": "execute_result"
    }
   ],
   "source": [
    "matrix_mult_speed_df = filter_by_experiment('matrix-mult','speed-up')\n",
    "experiment = get_experimental_values(matrix_mult_speed_df, ['parallel-paw-single-tiled','parallel-non-tiled'])\n",
    "experiment.keys()"
   ]
  },
  {
   "cell_type": "code",
   "execution_count": 11,
   "id": "f3ff8a54",
   "metadata": {},
   "outputs": [
    {
     "data": {
      "text/plain": [
       "1443    1\n",
       "1452    2\n",
       "1461    3\n",
       "1470    4\n",
       "1479    5\n",
       "Name: cores, dtype: int64"
      ]
     },
     "execution_count": 11,
     "metadata": {},
     "output_type": "execute_result"
    }
   ],
   "source": [
    "def get_plottable_experiment(experiment: dict)->dict:\n",
    "    colors = ['b','g','r','c','m','y','k']\n",
    "    colors.reverse()\n",
    "    dictionary = {}\n",
    "    for version in experiment:\n",
    "        x=experiment[version]['x']\n",
    "        y=experiment[version]['y']\n",
    "        dictionary[version]={'x':x, 'y':y ,'color':colors.pop()}\n",
    "    return dictionary\n",
    "\n",
    "matrix_mult_speed_df = filter_by_experiment('matrix-mult','speed-up')\n",
    "experiment = get_experimental_values(matrix_mult_speed_df)\n",
    "plottable_experiment = get_plottable_experiment(experiment)\n",
    "plottable_experiment['parallel-non-tiled']['x'].head()"
   ]
  },
  {
   "cell_type": "code",
   "execution_count": 12,
   "id": "5bfbf274",
   "metadata": {},
   "outputs": [],
   "source": [
    "def plot_scatter(experiment, versions=all_versions,tick_format_style=default_tick_format_style ):\n",
    "    \n",
    "    fig=plt.figure(figsize=(25, 8))\n",
    "        \n",
    "    gg=0\n",
    "    min_y = 0\n",
    "    max_y = 0\n",
    "    \n",
    "    \n",
    "    for version in versions:\n",
    "        canva = fig.add_subplot(131+gg)\n",
    "        gg+=1\n",
    "        canva.title.set_text(version)\n",
    "        x = exp[version]['x']\n",
    "        y = exp[version]['y']\n",
    "        \n",
    "        max_y = max(max_y, y.max())\n",
    "        min_y = min(min_y, y.min())\n",
    "        \n",
    "        #plt.ylim([min_y, max_y])\n",
    "\n",
    "        c = exp[version]\n",
    "        plt.plot(x, y, 'o')\n",
    "        m, b = np.polyfit(x, y, 1)\n",
    "\n",
    "        plt.ticklabel_format(style=tick_format_style, axis='y', scilimits=(0,0))\n",
    "        plt.plot(x, m*x+b)\n",
    "    \n",
    "\n",
    "    plt.show()"
   ]
  },
  {
   "cell_type": "code",
   "execution_count": 13,
   "id": "1ff01fc4",
   "metadata": {},
   "outputs": [
    {
     "data": {
      "image/png": "[encoded data removed]",
      "text/plain": [
       "<Figure size 1800x576 with 3 Axes>"
      ]
     },
     "metadata": {
      "needs_background": "light"
     },
     "output_type": "display_data"
    }
   ],
   "source": [
    "fdf = filter_by_experiment('matrix-mult', 'total-instructions')\n",
    "exp = get_experimental_values(fdf)\n",
    "plot_exp = get_plottable_experiment(exp)\n",
    "plot_scatter(plot_exp)\n"
   ]
  },
  {
   "cell_type": "code",
   "execution_count": 14,
   "id": "5da3197b",
   "metadata": {},
   "outputs": [],
   "source": [
    "def plot_lines(dataframe: pd.DataFrame, versions=[], canva=None, title=\"\", tick_format_style=default_tick_format_style):\n",
    "    \n",
    "    if(canva==None):\n",
    "        fig=plt.figure(figsize=(20, 10))\n",
    "        canva = fig.add_subplot()\n",
    "        \n",
    "    \n",
    "    canva.title.set_text(title)\n",
    "\n",
    "    plt.ylabel('Values')\n",
    "    plt.xlabel('# Cores')\n",
    "    \n",
    "    \n",
    "    aux_experiment = get_experimental_values(dataframe,versions)\n",
    "    experiment = get_plottable_experiment(aux_experiment)\n",
    "    \n",
    "       \n",
    "    x_min=0\n",
    "    x_max=10\n",
    "    \n",
    "    y_min=0\n",
    "    y_max=10\n",
    "    \n",
    "    plt.ticklabel_format(style=tick_format_style, axis='y', scilimits=(0,0))\n",
    " \n",
    "    \n",
    "    # lines\n",
    "    for version in experiment.keys():\n",
    "        color = experiment[version]['color']\n",
    "        x = experiment[version]['x']\n",
    "        x_min = x.min()\n",
    "        x_max = x.max()\n",
    "        \n",
    "        y = experiment[version]['y']\n",
    "        y_min= y.min()\n",
    "        y_max= y.max()\n",
    "    \n",
    "        line, = plt.plot(x, y, color)\n",
    "        line.set_label(version)\n",
    "        \n",
    "    # axh lines\n",
    "    for version in experiment.keys():\n",
    "        color = experiment[version]['color']\n",
    "        y = experiment[version]['y']\n",
    "        plt.axhline(y=y.min(), color=color, linestyle=\":\", label='min-'+version)\n",
    "        plt.legend()\n",
    "    \n",
    "#     x_min=x_min-x_min*0.05\n",
    "#     x_max=x_max+x_max*0.05\n",
    "    \n",
    "#     y_min=y_min-y_min*0.1    \n",
    "#     y_max=y_max+y_max*0.1\n",
    "    \n",
    "#     x_lim=[x_min, x_max]\n",
    "#     y_lim=[y_min, y_max]\n",
    "    \n",
    "#     print(str(x_lim))\n",
    "#     print(str(y_lim))\n",
    "#     plt.xlim(x_lim)\n",
    "#     plt.ylim(y_lim)"
   ]
  },
  {
   "cell_type": "code",
   "execution_count": 15,
   "id": "29db4cb3",
   "metadata": {},
   "outputs": [],
   "source": [
    "def plot_bars(dataframe: pd.DataFrame, versions=[], canva=None, tick_format_style=default_tick_format_style):\n",
    "    \n",
    "    if(canva==None):\n",
    "        fig=plt.figure(figsize=(20, 10))\n",
    "        canva = fig.add_subplot()\n",
    "    \n",
    "    # bars\n",
    "    aux_experiment = get_experimental_values(dataframe,versions)\n",
    "    experiment = get_plottable_experiment(aux_experiment)\n",
    "    experiment_keys = list(experiment.keys())\n",
    "    min_execution_time_version = experiment_keys[0]\n",
    "    min_execution_time = experiment[min_execution_time_version]['y'].min()\n",
    "    for version in experiment_keys:\n",
    "        cur_experiment_time = experiment[version]['y'].min()\n",
    "        if min_execution_time > cur_experiment_time:\n",
    "            min_execution_time = cur_experiment_time\n",
    "            min_execution_time_version = version\n",
    "        \n",
    "    version_filtered_df = dataframe.loc[dataframe['version'] == min_execution_time_version]\n",
    "    cores_df = version_filtered_df.loc[dataframe['value'] == min_execution_time]\n",
    "    cores_with_min_execution_time = cores_df['cores'].values[0]\n",
    "    bars_df = dataframe.loc[dataframe['cores']==cores_with_min_execution_time] \n",
    "        \n",
    "\n",
    "    names=[]\n",
    "    colors=[]\n",
    "    values=[]\n",
    "    for version in experiment_keys:\n",
    "        names.append(version)\n",
    "        \n",
    "        val = bars_df.loc[bars_df['version']==version]['value'].values[0]\n",
    "        values.append(val)\n",
    "        \n",
    "        color = experiment[version]['color']\n",
    "        colors.append(color)\n",
    "\n",
    "\n",
    "    plt.ticklabel_format(style=tick_format_style, axis='y', scilimits=(0,0))\n",
    "    \n",
    "    canva.title.set_text('Bar chart - Cores: '+str(cores_with_min_execution_time))\n",
    "    \n",
    "    \n",
    "    plt.bar(names, values, color=colors)\n",
    "    \n",
    "    plt.ylabel('Values')\n",
    "    plt.xlabel('Versions')\n",
    "\n"
   ]
  },
  {
   "cell_type": "code",
   "execution_count": 16,
   "id": "24efb9f4",
   "metadata": {
    "scrolled": false
   },
   "outputs": [
    {
     "data": {
      "image/png": "[encoded data removed]",
      "text/plain": [
       "<Figure size 1800x720 with 2 Axes>"
      ]
     },
     "metadata": {
      "needs_background": "light"
     },
     "output_type": "display_data"
    }
   ],
   "source": [
    "def plot_experiments(experiment_label, dataframe: pd.DataFrame, versions=[], tick_format_style=default_tick_format_style):\n",
    "    \n",
    "    fig=plt.figure(figsize=(25, 10))\n",
    "    \n",
    "        \n",
    "    plt.suptitle(experiment_label+' analysis')\n",
    "    \n",
    "    canva = fig.add_subplot(121)\n",
    "    plot_lines(dataframe, versions, canva, tick_format_style=tick_format_style)\n",
    "    \n",
    "    canva2 = fig.add_subplot(122)\n",
    "    plot_bars(dataframe, versions, canva2, tick_format_style=tick_format_style)\n",
    "    \n",
    "    plt.show()\n",
    "    \n",
    "matrix_mult_speed_df = filter_by_experiment('matrix-mult','cache-misses')\n",
    "plot_experiments('matrix-mult', group_mean(matrix_mult_speed_df))"
   ]
  },
  {
   "cell_type": "code",
   "execution_count": 17,
   "id": "dcd74272",
   "metadata": {},
   "outputs": [
    {
     "data": {
      "text/plain": [
       "array(['cache-misses', 'total-instructions', 'speed-up'], dtype=object)"
      ]
     },
     "execution_count": 17,
     "metadata": {},
     "output_type": "execute_result"
    }
   ],
   "source": [
    "def plot_bars_group(dataframe: pd.DataFrame, experiments=[]):\n",
    "    if(len(experiments) == 0):\n",
    "        experiments=get_unique(dataframe, 'experiment')\n",
    "    \n",
    "    return experiments\n",
    "\n",
    "plot_bars_group(df)"
   ]
  },
  {
   "cell_type": "markdown",
   "id": "0caa4be7",
   "metadata": {},
   "source": [
    "# Experiment details"
   ]
  },
  {
   "cell_type": "markdown",
   "id": "4879abeb",
   "metadata": {},
   "source": [
    "- Machine: **DARWIN/CAVINESS**\n",
    "- **PAPI** for profiling\n",
    "- **OMP** for paralellization\n",
    "- **Calloc** for dynamic memory allocation\n",
    "- **Sbatch** and **slurm** for running experiments"
   ]
  },
  {
   "cell_type": "markdown",
   "id": "7d28f2a9",
   "metadata": {},
   "source": [
    "## DARWIN"
   ]
  },
  {
   "cell_type": "markdown",
   "id": "fd6be253",
   "metadata": {},
   "source": [
    "### Main memory and cache estimations"
   ]
  },
  {
   "attachments": {
    "image-2.png": {
     "image/png": "[encoded data removed]"
    },
    "image-3.png": {
     "image/png": "[encoded data removed]"
    },
    "image-4.png": {
     "image/png": "[encoded data removed]"
    },
    "image-5.png": {
     "image/png": "[encoded data removed]"
    },
    "image-6.png": {
     "image/png": "[encoded data removed]"
    },
    "image-7.png": {
     "image/png": "[encoded data removed]"
    },
    "image-8.png": {
     "image/png": "[encoded data removed]"
    }
   },
   "cell_type": "markdown",
   "id": "bb864967",
   "metadata": {},
   "source": [
    "#### Understanding cache information\n",
    "- Where to see cache information? ```lscpu | grep cache```\n",
    "\n",
    "![image-2.png](attachment:image-2.png)\n",
    "\n",
    "- Is that information exact? To confirm that we could use another command in linux: ```getconf -a | grep CACHE```. This is what we get: \n",
    "![image-3.png](attachment:image-3.png) \n",
    "\n",
    "One can notice L3 size from ```getconf``` does not fit with the last value in the ```lscpu``` command. So, we did the math.\n",
    "\n",
    "For L3, we found the L3 in the ```getconf``` information is written in bits, while the ```lscpu``` info is written in KiB as we can see in the following example:\n",
    "![image-4.png](attachment:image-4.png)\n",
    "\n",
    "From byte to KiB\n",
    "![image-8.png](attachment:image-8.png)\n",
    "\n",
    "However, for L2, it was not the same. When trying to do the conversion from bits to KiB we got this:\n",
    "![image-5.png](attachment:image-5.png)\n",
    "\n",
    "But, after doing the same conversion from bits to Kb we got the expected results:\n",
    "![image-6.png](attachment:image-6.png)\n",
    "\n",
    "Finally, as expected for L1i and L1d we got the expected results when doing the conversion from bits to Kb:\n",
    "![image-7.png](attachment:image-7.png)\n",
    "\n",
    "\n",
    "##### Conclusions\n",
    "After comparing the information, we concluded that all the cache information in ```lscpu``` and ```getconf``` is expressed in Kilobits and bits respectively, except for the information related to L3 cache, which is written in Kibibytes and bits respectively."
   ]
  },
  {
   "cell_type": "markdown",
   "id": "1109bae8",
   "metadata": {},
   "source": [
    "#### Filling up the cache\n",
    "\n",
    "Now, the main question to ask is: what size our matrices/vectors should be for filling up the cache?\n",
    "\n",
    "To answer this question we should make some math:\n",
    "   - What is the size (in Bytes) of the Cache? > Darwin: L2 - 512KiB; L3 - 16384KiB (134217728 bits)\n",
    "   - How many bytes the data type takes in memory/cache? > Float/Integer : 4B (bytes)\n",
    "   - What is the total number of values that will fit in cache? (cache/type's size): Darwin > 16384KiB/4B"
   ]
  },
  {
   "cell_type": "code",
   "execution_count": 19,
   "id": "fb8785f7",
   "metadata": {},
   "outputs": [],
   "source": [
    "darwin_cache_size_in_bytes=16384 * 1024 #16384KiB\n",
    "type_size_in_bytes = 4 #4 bytes (integer/float)\n",
    "darwin_total_values_in_cache = darwin_cache_size_in_bytes/type_size_in_bytes"
   ]
  },
  {
   "cell_type": "markdown",
   "id": "ae90ed89",
   "metadata": {},
   "source": [
    "So, for filling up the cache in a **DARWIN** with a **16384KiB L3 cache**, we should use, at least, the following number of values in cache."
   ]
  },
  {
   "cell_type": "code",
   "execution_count": 20,
   "id": "e9d92289",
   "metadata": {},
   "outputs": [
    {
     "name": "stdout",
     "output_type": "stream",
     "text": [
      "Total of values to fill up the cache: 4194304\n",
      "Total of values to double the cache: 8388608\n"
     ]
    }
   ],
   "source": [
    "print(f\"Total of values to fill up the cache: {round(darwin_total_values_in_cache)}\")\n",
    "\n",
    "darwin_double_cache_values = 2*darwin_total_values_in_cache\n",
    "print(f\"Total of values to double the cache: {round(darwin_double_cache_values)}\")"
   ]
  },
  {
   "attachments": {
    "image.png": {
     "image/png": "[encoded data removed]"
    }
   },
   "cell_type": "markdown",
   "id": "a8f61b7a",
   "metadata": {},
   "source": [
    "### About cache line size and cache associativity\n",
    "\n",
    "Using the following command we are able to see cache details in linux: \n",
    "\n",
    "To get detailed information about cache we could use: ```getconf -a | grep CACHE```\n",
    "![image.png](attachment:image.png)\n",
    "\n",
    "\n",
    "In the last image we can observe details such as SIZE, LINE_SIZE and association for all the cache levels."
   ]
  },
  {
   "cell_type": "code",
   "execution_count": 21,
   "id": "ba4da796",
   "metadata": {},
   "outputs": [],
   "source": [
    "darwin_cache_line_size_in_bytes = 64"
   ]
  },
  {
   "cell_type": "markdown",
   "id": "62d0f6e2",
   "metadata": {},
   "source": [
    "## CAVINESS"
   ]
  },
  {
   "cell_type": "markdown",
   "id": "593e9db2",
   "metadata": {},
   "source": [
    "### Main memory and cache estimations"
   ]
  },
  {
   "attachments": {
    "image-8.png": {
     "image/png": "[encoded data removed]"
    },
    "image-9.png": {
     "image/png": "[encoded data removed]"
    }
   },
   "cell_type": "markdown",
   "id": "ca6c87c2",
   "metadata": {},
   "source": [
    "#### Understanding cache information\n",
    "- Where to see cache information? ```lscpu | grep cache```\n",
    "\n",
    "![image-8.png](attachment:image-8.png)\n",
    "\n",
    "- Is that information exact? To confirm that we could use another command in linux: ```getconf -a | grep CACHE```. This is what we get: \n",
    "![image-9.png](attachment:image-9.png) \n",
    "\n",
    "\n",
    "##### Conclusions\n",
    "After comparing the information, we concluded that all the cache information in ```lscpu``` and ```getconf``` is expressed in Kilobits and bits respectively."
   ]
  },
  {
   "cell_type": "markdown",
   "id": "24b318fd",
   "metadata": {},
   "source": [
    "#### Filling up the cache\n",
    "\n",
    "Now, the main question to ask is: what size our matrices/vectors should be for filling up the cache?\n",
    "\n",
    "To answer this question we should make some math:\n",
    "   - What is the size (in Bytes) of the Cache? > CAVINESS: L3 - 46080KiB; L3 (47185920 bits)\n",
    "   - How many bytes the data type takes in memory/cache? > Float/Integer : 4 B (bytes)\n",
    "   - What is the total number of values that will fit in cache? (cache/type's size): CAVINESS' CACHE > 46080 KiB/4 B"
   ]
  },
  {
   "cell_type": "code",
   "execution_count": 23,
   "id": "b0a50b7c",
   "metadata": {},
   "outputs": [],
   "source": [
    "caviness_cache_size_in_bytes=46080 * 1024 #16384KiB\n",
    "type_size_in_bytes = 4 #4 bytes (integer/float)\n",
    "caviness_total_values_in_cache = caviness_cache_size_in_bytes/type_size_in_bytes"
   ]
  },
  {
   "cell_type": "markdown",
   "id": "4f3f1f3d",
   "metadata": {},
   "source": [
    "So, for filling up the cache in a **CAVINESS** with a **46080 KiB L3 cache**, we should use, at least, the following number of values in cache."
   ]
  },
  {
   "cell_type": "code",
   "execution_count": 24,
   "id": "1053e1f0",
   "metadata": {},
   "outputs": [
    {
     "name": "stdout",
     "output_type": "stream",
     "text": [
      "Total of values to fill up the cache: 11796480\n",
      "Total of values to double the cache: 23592960\n"
     ]
    }
   ],
   "source": [
    "print(f\"Total of values to fill up the cache: {round(caviness_total_values_in_cache)}\")\n",
    "\n",
    "caviness_double_cache_values = 2*caviness_total_values_in_cache\n",
    "print(f\"Total of values to double the cache: {round(caviness_double_cache_values)}\")"
   ]
  },
  {
   "attachments": {
    "image-2.png": {
     "image/png": "[encoded data removed]"
    },
    "image.png": {
     "image/png": "[encoded data removed]"
    }
   },
   "cell_type": "markdown",
   "id": "29607d74",
   "metadata": {},
   "source": [
    "### About cache line size and cache associativity\n",
    "\n",
    "Using the following command we are able to see cache details in linux: \n",
    "\n",
    "To get detailed information about cache we could use: ```getconf -a | grep CACHE```\n",
    "![image-2.png](attachment:image-2.png)![image.png](attachment:image.png)\n",
    "\n",
    "\n",
    "In the last image we can observe details such as SIZE, LINE_SIZE and association for all the cache levels."
   ]
  },
  {
   "cell_type": "code",
   "execution_count": 25,
   "id": "e4325847",
   "metadata": {},
   "outputs": [],
   "source": [
    "caviness_cache_line_size_in_bytes = 64"
   ]
  },
  {
   "cell_type": "markdown",
   "id": "d1092dba",
   "metadata": {},
   "source": [
    "# Matrix multiplication\n",
    "\n",
    "Cluster: **DARWIN**"
   ]
  },
  {
   "cell_type": "code",
   "execution_count": 32,
   "id": "1453b16d",
   "metadata": {},
   "outputs": [],
   "source": [
    "double_cache_values = darwin_double_cache_values\n",
    "cache_size_in_bytes = darwin_cache_size_in_bytes\n",
    "total_values_in_cache = darwin_total_values_in_cache"
   ]
  },
  {
   "cell_type": "markdown",
   "id": "45df3f14",
   "metadata": {},
   "source": [
    "## Matrix size\n",
    "For matrix multiplication we require 3 matrices. Looking for filling up the cache twice we will need to split double of the total amount of values in cache through the 3 matrices.\n",
    "- Matrices will be **square**\n",
    "- Data type: **float**"
   ]
  },
  {
   "cell_type": "code",
   "execution_count": 33,
   "id": "60442a0c",
   "metadata": {},
   "outputs": [
    {
     "name": "stdout",
     "output_type": "stream",
     "text": [
      "cache in bytes: 16777216\n",
      "float type size: 4\n",
      "Total floating numbers to fill up cache: 4194304\n",
      "Total floating numbers to double cache: 8388608\n",
      "total floating numbers per matrix (3 matrices): 2796203\n",
      "rows and cols per matrix: 1673\n"
     ]
    }
   ],
   "source": [
    "num_matrices = 3\n",
    "total_values_per_matrix=double_cache_values/num_matrices\n",
    "N_matrix = math.ceil(math.sqrt(total_values_per_matrix))\n",
    "print(f\"cache in bytes: {round(cache_size_in_bytes)}\")\n",
    "print(f\"float type size: {round(type_size_in_bytes)}\")\n",
    "print(f\"Total floating numbers to fill up cache: {round(total_values_in_cache)}\")\n",
    "print(f\"Total floating numbers to double cache: {round(double_cache_values)}\")\n",
    "print(f\"total floating numbers per matrix (3 matrices): {round(total_values_per_matrix)}\")\n",
    "print(f\"rows and cols per matrix: {round(N_matrix)}\")"
   ]
  },
  {
   "cell_type": "markdown",
   "id": "f502e4e2",
   "metadata": {},
   "source": [
    "### Execution time"
   ]
  },
  {
   "cell_type": "markdown",
   "id": "a29ec0eb",
   "metadata": {},
   "source": [
    "First we are going to take a look at the scattered behaviour of the execution times took from matrix multiplication's experiments."
   ]
  },
  {
   "cell_type": "code",
   "execution_count": null,
   "id": "4cb0260b",
   "metadata": {},
   "outputs": [],
   "source": [
    "df_mm_ex = filter_by_experiment('matrix-mult','speed-up')\n",
    "df_mm_ex"
   ]
  },
  {
   "cell_type": "code",
   "execution_count": null,
   "id": "4757a663",
   "metadata": {},
   "outputs": [],
   "source": [
    "exp = get_experimental_values(df_mm_ex)\n",
    "plot_exp = get_plottable_experiment(exp)\n",
    "plot_scatter(plot_exp, tick_format_style='sci')"
   ]
  },
  {
   "cell_type": "code",
   "execution_count": null,
   "id": "74f741a6",
   "metadata": {},
   "outputs": [],
   "source": [
    "plot_experiments('Matrix Mult - Execution time',group_mean(df_mm_ex))"
   ]
  },
  {
   "cell_type": "markdown",
   "id": "46145f25",
   "metadata": {},
   "source": [
    "#### Observations\n",
    "Unexpectedly, the **paw tiled** *(multi tiling)* version got the best performance and the the **single tiled** version got the worst performance. Due to these observations, one can suppose the following:\n",
    "- paw single tiled version is not splitting the data in the best possible way, so the cache misses get increased and then the performance get decreased.\n",
    "- In contrast, paw tiled version (multi-tiled version) is splitting the data in a better way and performance and cache hits get increased.\n"
   ]
  },
  {
   "cell_type": "markdown",
   "id": "46c8b6e3",
   "metadata": {},
   "source": [
    "## Analysis"
   ]
  },
  {
   "cell_type": "markdown",
   "id": "1012c418",
   "metadata": {},
   "source": [
    "### Matrices\n",
    "\n"
   ]
  },
  {
   "cell_type": "code",
   "execution_count": null,
   "id": "994f9a6e",
   "metadata": {},
   "outputs": [],
   "source": []
  },
  {
   "cell_type": "markdown",
   "id": "a8c3f177",
   "metadata": {},
   "source": [
    "### Cache misses\n",
    "\n",
    "Now, we are going to analyze the cache misses for the **matrix multiplication** algorithm."
   ]
  },
  {
   "cell_type": "code",
   "execution_count": null,
   "id": "d866038a",
   "metadata": {},
   "outputs": [],
   "source": [
    "df_mm_cache = filter_by_experiment('matrix-mult','cache-misses')\n",
    "exp = get_experimental_values(df_mm_cache)\n",
    "plot_exp = get_plottable_experiment(exp)\n",
    "plot_scatter(plot_exp, tick_format_style='sci')"
   ]
  },
  {
   "cell_type": "code",
   "execution_count": null,
   "id": "2642d6da",
   "metadata": {},
   "outputs": [],
   "source": [
    "df_std_mm_cache = group_by(df_mm_cache)\n",
    "df_std_mm_cache = df_std_mm_cache.std()\n",
    "df_std_mm_cache"
   ]
  },
  {
   "cell_type": "code",
   "execution_count": null,
   "id": "892698ba",
   "metadata": {},
   "outputs": [],
   "source": [
    "exp = get_experimental_values(df_std_mm_cache)\n",
    "plot_exp = get_plottable_experiment(exp)\n",
    "plot_scatter(plot_exp, tick_format_style='sci')"
   ]
  },
  {
   "cell_type": "code",
   "execution_count": null,
   "id": "a3968d96",
   "metadata": {},
   "outputs": [],
   "source": [
    "group_by(df_mm_cache).min()\n"
   ]
  },
  {
   "cell_type": "code",
   "execution_count": null,
   "id": "e16c5d87",
   "metadata": {},
   "outputs": [],
   "source": [
    "plot_experiments('Matrix Mult - Cache misses',group_by(df_mm_cache).min())\n",
    "## Use min to see "
   ]
  },
  {
   "cell_type": "code",
   "execution_count": null,
   "id": "ca3919d6",
   "metadata": {},
   "outputs": [],
   "source": [
    "#Sanity check : What is expected?"
   ]
  },
  {
   "cell_type": "code",
   "execution_count": null,
   "id": "16539346",
   "metadata": {},
   "outputs": [],
   "source": []
  },
  {
   "cell_type": "code",
   "execution_count": null,
   "id": "214fb693",
   "metadata": {},
   "outputs": [],
   "source": []
  },
  {
   "cell_type": "markdown",
   "id": "98b287d3",
   "metadata": {},
   "source": [
    "### Total of instructions executed"
   ]
  },
  {
   "cell_type": "code",
   "execution_count": null,
   "id": "56159345",
   "metadata": {},
   "outputs": [],
   "source": [
    "df_mm_ti = filter_by_experiment('matrix-mult','total-instructions')\n",
    "df_mm_ti"
   ]
  },
  {
   "cell_type": "code",
   "execution_count": null,
   "id": "ae74a057",
   "metadata": {},
   "outputs": [],
   "source": [
    "exp = get_experimental_values(df_mm_ti)\n",
    "plot_exp = get_plottable_experiment(exp)\n",
    "plot_scatter(plot_exp, tick_format_style='sci')"
   ]
  },
  {
   "cell_type": "code",
   "execution_count": null,
   "id": "b51c70bb",
   "metadata": {
    "scrolled": false
   },
   "outputs": [],
   "source": [
    "plot_experiments('Matrix Mult - Total instructions executed',group_by(df_mm_ti).min())"
   ]
  },
  {
   "cell_type": "markdown",
   "id": "fde18e1f",
   "metadata": {},
   "source": [
    "# Matrix-vector multiplication"
   ]
  },
  {
   "cell_type": "markdown",
   "id": "6b24b9f4",
   "metadata": {},
   "source": [
    "## Analysis"
   ]
  },
  {
   "cell_type": "markdown",
   "id": "4a1fe727",
   "metadata": {},
   "source": [
    "### Cache misses"
   ]
  },
  {
   "cell_type": "code",
   "execution_count": null,
   "id": "28302242",
   "metadata": {},
   "outputs": [],
   "source": [
    "df_vm_cache = filter_by_experiment('vector-mult','cache-misses')\n",
    "df_vm_cache"
   ]
  },
  {
   "cell_type": "code",
   "execution_count": null,
   "id": "1b6b72bd",
   "metadata": {},
   "outputs": [],
   "source": [
    "exp = get_experimental_values(df_vm_cache)\n",
    "plot_exp = get_plottable_experiment(exp)\n",
    "plot_scatter(plot_exp, tick_format_style='sci')"
   ]
  },
  {
   "cell_type": "code",
   "execution_count": null,
   "id": "a7b9d49c",
   "metadata": {},
   "outputs": [],
   "source": [
    "plot_experiments('Matrix-vector Mult - Cache misses',group_mean(df_vm_cache))"
   ]
  },
  {
   "cell_type": "markdown",
   "id": "dc6fa0bb",
   "metadata": {},
   "source": [
    "### Total of instructions executed"
   ]
  },
  {
   "cell_type": "code",
   "execution_count": null,
   "id": "4eff74a9",
   "metadata": {},
   "outputs": [],
   "source": [
    "df_vm_ti = filter_by_experiment('vector-mult','total-instructions')\n",
    "df_vm_ti"
   ]
  },
  {
   "cell_type": "code",
   "execution_count": null,
   "id": "19700fab",
   "metadata": {},
   "outputs": [],
   "source": [
    "exp = get_experimental_values(df_vm_ti)\n",
    "plot_exp = get_plottable_experiment(exp)\n",
    "plot_scatter(plot_exp, tick_format_style='sci')"
   ]
  },
  {
   "cell_type": "code",
   "execution_count": null,
   "id": "6bd27341",
   "metadata": {},
   "outputs": [],
   "source": [
    "plot_experiments('Matrix-vector Mult - Total instructions executed',group_mean(df_vm_ti))"
   ]
  },
  {
   "cell_type": "markdown",
   "id": "7b03f8d4",
   "metadata": {},
   "source": [
    "### Execution time"
   ]
  },
  {
   "cell_type": "code",
   "execution_count": null,
   "id": "282f10f8",
   "metadata": {},
   "outputs": [],
   "source": [
    "df_vm_ex = filter_by_experiment('vector-mult','speed-up')\n",
    "df_vm_ex"
   ]
  },
  {
   "cell_type": "code",
   "execution_count": null,
   "id": "1309774b",
   "metadata": {},
   "outputs": [],
   "source": [
    "exp = get_experimental_values(df_vm_ex)\n",
    "plot_exp = get_plottable_experiment(exp)\n",
    "plot_scatter(plot_exp, tick_format_style='sci')"
   ]
  },
  {
   "cell_type": "code",
   "execution_count": null,
   "id": "6bee38e2",
   "metadata": {},
   "outputs": [],
   "source": [
    "plot_experiments('Matrix-vector Mult - Execution time',group_mean(df_vm_ex))"
   ]
  },
  {
   "cell_type": "markdown",
   "id": "ca01bbbd",
   "metadata": {},
   "source": [
    "# Jacobi"
   ]
  },
  {
   "cell_type": "markdown",
   "id": "b6678d0c",
   "metadata": {},
   "source": [
    "## Analysis"
   ]
  },
  {
   "cell_type": "markdown",
   "id": "3ac2c829",
   "metadata": {},
   "source": [
    "### Cache misses"
   ]
  },
  {
   "cell_type": "code",
   "execution_count": null,
   "id": "57425409",
   "metadata": {},
   "outputs": [],
   "source": [
    "df_jb_cache = filter_by_experiment('jacobi','cache-misses')\n",
    "df_jb_cache\n"
   ]
  },
  {
   "cell_type": "code",
   "execution_count": null,
   "id": "02a3b693",
   "metadata": {},
   "outputs": [],
   "source": [
    "exp = get_experimental_values(df_jb_cache)\n",
    "plot_exp = get_plottable_experiment(exp)\n",
    "plot_scatter(plot_exp, tick_format_style='sci')"
   ]
  },
  {
   "cell_type": "code",
   "execution_count": null,
   "id": "b712a445",
   "metadata": {},
   "outputs": [],
   "source": [
    "plot_experiments('Jacobi - Cache misses',group_mean(df_jb_cache))"
   ]
  },
  {
   "cell_type": "markdown",
   "id": "009d0d69",
   "metadata": {},
   "source": [
    "### Total of instructions executed"
   ]
  },
  {
   "cell_type": "code",
   "execution_count": null,
   "id": "634c4fb9",
   "metadata": {},
   "outputs": [],
   "source": [
    "df_jb_ti = filter_by_experiment('jacobi','total-instructions')\n",
    "df_jb_ti"
   ]
  },
  {
   "cell_type": "code",
   "execution_count": null,
   "id": "c0b9380f",
   "metadata": {},
   "outputs": [],
   "source": [
    "exp = get_experimental_values(df_jb_ti)\n",
    "plot_exp = get_plottable_experiment(exp)\n",
    "plot_scatter(plot_exp, tick_format_style='plain')"
   ]
  },
  {
   "cell_type": "code",
   "execution_count": null,
   "id": "9e680f18",
   "metadata": {},
   "outputs": [],
   "source": [
    "df_jb_ti[(df_jb_ti.version=='parallel-paw-tiled' )& (df_jb_ti.cores==2)]"
   ]
  },
  {
   "cell_type": "code",
   "execution_count": null,
   "id": "234d1e23",
   "metadata": {},
   "outputs": [],
   "source": [
    "plot_experiments('Jacobi - Total instructions executed',group_mean(df_jb_ti))"
   ]
  },
  {
   "cell_type": "markdown",
   "id": "267d1b19",
   "metadata": {},
   "source": [
    "### Execution time"
   ]
  },
  {
   "cell_type": "code",
   "execution_count": null,
   "id": "bc54c218",
   "metadata": {},
   "outputs": [],
   "source": [
    "df_jb_ex = filter_by_experiment('jacobi','speed-up')\n",
    "df_jb_ex"
   ]
  },
  {
   "cell_type": "code",
   "execution_count": null,
   "id": "eeb99488",
   "metadata": {},
   "outputs": [],
   "source": [
    "exp = get_experimental_values(df_jb_ex)\n",
    "plot_exp = get_plottable_experiment(exp)\n",
    "plot_scatter(plot_exp, tick_format_style='sci')"
   ]
  },
  {
   "cell_type": "code",
   "execution_count": null,
   "id": "2484a1e7",
   "metadata": {},
   "outputs": [],
   "source": [
    "plot_experiments('Jacobi - Execution time',group_mean(df_jb_ex))"
   ]
  },
  {
   "cell_type": "markdown",
   "id": "6e722134",
   "metadata": {},
   "source": [
    "# Conclusions\n",
    "\n",
    "- It looks like the effectivity is context-based.  For example, we could see some improvement over the cache hits and performance in the **matrix** and **vector-matrix** multiplication algorithms but it not the same case for the **jacobi** algorithm."
   ]
  },
  {
   "cell_type": "code",
   "execution_count": null,
   "id": "524ecb06",
   "metadata": {},
   "outputs": [],
   "source": []
  },
  {
   "cell_type": "code",
   "execution_count": null,
   "id": "b5f69191",
   "metadata": {},
   "outputs": [],
   "source": []
  },
  {
   "cell_type": "code",
   "execution_count": null,
   "id": "5d8f6a2f",
   "metadata": {},
   "outputs": [],
   "source": []
  },
  {
   "cell_type": "code",
   "execution_count": null,
   "id": "75c2d177",
   "metadata": {},
   "outputs": [],
   "source": []
  },
  {
   "cell_type": "code",
   "execution_count": null,
   "id": "8ff41421",
   "metadata": {},
   "outputs": [],
   "source": []
  }
 ],
 "metadata": {
  "kernelspec": {
   "display_name": "Python 3 (ipykernel)",
   "language": "python",
   "name": "python3"
  },
  "language_info": {
   "codemirror_mode": {
    "name": "ipython",
    "version": 3
   },
   "file_extension": ".py",
   "mimetype": "text/x-python",
   "name": "python",
   "nbconvert_exporter": "python",
   "pygments_lexer": "ipython3",
   "version": "3.9.12"
  }
 },
 "nbformat": 4,
 "nbformat_minor": 5
}
